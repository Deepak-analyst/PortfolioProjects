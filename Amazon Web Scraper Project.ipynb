{
 "cells": [
  {
   "cell_type": "code",
   "execution_count": 2,
   "id": "21ac66ed-e9b8-410d-be83-e9a157ab3412",
   "metadata": {},
   "outputs": [],
   "source": [
    "#Import libraries\n",
    "\n",
    "from bs4 import BeautifulSoup\n",
    "import requests\n",
    "import time\n",
    "import datetime\n",
    "\n",
    "import smtplib"
   ]
  },
  {
   "cell_type": "code",
   "execution_count": 3,
   "id": "f95945fe-a7e1-4ae0-9110-4fc7a7087e05",
   "metadata": {},
   "outputs": [
    {
     "name": "stdout",
     "output_type": "stream",
     "text": [
      "\n",
      "                    Data Analyst Definition Data Analysis Distressed T-Shirt\n",
      "                   \n",
      "\n",
      "\n",
      "\n",
      "\n",
      "\n",
      "                     Price:\n",
      "                    \n",
      "\n",
      "\n",
      "\n",
      "                       $17.99\n",
      "                      \n",
      "\n",
      "                       $17.99\n",
      "                      \n",
      "\n",
      "\n",
      "\n",
      "\n",
      "\n",
      "\n",
      "\n",
      "\n",
      "\n",
      "\n",
      "\n",
      "\n",
      "\n",
      "\n",
      "\n",
      "\n",
      "\n",
      "\n",
      "\n",
      "\n",
      "\n",
      "\n",
      "\n",
      "\n",
      "\n",
      "\n",
      "\n"
     ]
    }
   ],
   "source": [
    "# connect to website and pull all data\n",
    "\n",
    "URL = 'https://www.amazon.com/Data-Analyst-Definition-Analysis-Distressed/dp/B0C1THH2KF/ref=sr_1_2?dib=eyJ2IjoiMSJ9.oMNOwLEAqdizztT1Qlud8fXqKppDMA0n8gCeQKmJojQXY_f1m9Fjyn8qzR7L7XsXXGyKsEKeq_UKGYiLochMatf5WnJgJaedY-1MA8JkfMR4TXM3YHaNW8qaUx6lEqaW83dXb2MCNjHljkYh52TWkhOMsWkP2wz3Bh1q4Nh1FeiR32fgoOutmmO4OTtkmoKRLP_6Gz6esta8BQIT_WcRnKsGhFWgP7vw8ESrXQrUGBU-pkpECH8G-mCHNwRx3_fx1D8RF6FW5Xq46zkO_pTM_nLiWtcP9B2NqEezQBLnBko.537aYguFGBBPQT-57kQ3j9x_cqHbDnD2xx4_eGI6nfQ&dib_tag=se&keywords=data%2Banalyst%2Btshirt&qid=1720084565&sr=8-2'\n",
    "\n",
    "headers = {\"User-Agent\": \"Mozilla/5.0 (Windows NT 10.0; Win64; x64) AppleWebKit/537.36 (KHTML, like Gecko) Chrome/126.0.0.0 Safari/537.36\", \"Accept-Encoding\": \"gzip, deflate, br, zstd\", \"Accept\": \"text/html,application/xhtml+xml,application/xml;q=0.9,image/avif,image/webp,image/apng,*/*;q=0.8,application/signed-exchange;v=b3;q=0.7\", \"DNT\":\"1\",\"Connection\":\"close\", \"Upgrade-Insecure-Requests\":\"1\"}\n",
    "\n",
    "page = requests.get(URL, headers=headers)\n",
    "\n",
    "soup1 = BeautifulSoup(page.content, \"html.parser\")\n",
    "\n",
    "soup2 = BeautifulSoup(soup1.prettify(), \"html.parser\")\n",
    "\n",
    "title = soup2.find(id='productTitle').get_text()\n",
    "\n",
    "price = soup2.find(id='corePrice_desktop').get_text()\n",
    "print(title)\n",
    "print(price)\n",
    "  \n",
    "\n"
   ]
  },
  {
   "cell_type": "code",
   "execution_count": 4,
   "id": "4ce31109-0dc1-4a36-8134-0e7e19392e31",
   "metadata": {},
   "outputs": [
    {
     "name": "stdout",
     "output_type": "stream",
     "text": [
      "Data Analyst Definition Data Analysis Distressed T-Shirt\n",
      "17.99\n"
     ]
    }
   ],
   "source": [
    "# Clean up the data a little bit\n",
    "\n",
    "price = price.strip()[-5:]\n",
    "title = title.strip()\n",
    "print(title)\n",
    "print(price)                                                                                      "
   ]
  },
  {
   "cell_type": "code",
   "execution_count": 6,
   "id": "cfb8d5bf-473d-4429-aabc-d1abd4517592",
   "metadata": {},
   "outputs": [
    {
     "name": "stdout",
     "output_type": "stream",
     "text": [
      "2024-07-19\n"
     ]
    }
   ],
   "source": [
    "# Create a Timestamp for your output to track when data was collected\n",
    "\n",
    "import datetime\n",
    "\n",
    "today = datetime.date.today()\n",
    "\n",
    "print(today)"
   ]
  },
  {
   "cell_type": "code",
   "execution_count": 9,
   "id": "37f54fca-a79c-4a76-9b2d-12a5d22c0494",
   "metadata": {},
   "outputs": [],
   "source": [
    "# Create CSV and write headers and data into the file\n",
    "\n",
    "import csv \n",
    "\n",
    "header = ['Title', 'Price', 'Date']\n",
    "data = [title, price, today]\n",
    "\n",
    "\n",
    "with open('AmazonWebScraperDataset.csv', 'w', newline='', encoding='UTF8') as f:\n",
    "    writer = csv.writer(f)\n",
    "    writer.writerow(header)\n",
    "    writer.writerow(data)\n",
    "    "
   ]
  },
  {
   "cell_type": "code",
   "execution_count": 41,
   "id": "2f379802-188e-4c37-bf88-8d9dbe72f8a3",
   "metadata": {},
   "outputs": [
    {
     "name": "stdout",
     "output_type": "stream",
     "text": [
      "                                               Title  Price        Date\n",
      "0  Data Analyst Definition Data Analysis Distress...  17.99  2024-07-19\n",
      "1  Data Analyst Definition Data Analysis Distress...  17.99  2024-07-19\n",
      "2  Data Analyst Definition Data Analysis Distress...  17.99  2024-07-19\n",
      "3  Data Analyst Definition Data Analysis Distress...  17.99  2024-07-19\n"
     ]
    }
   ],
   "source": [
    "import pandas as pd\n",
    "\n",
    "df = pd.read_csv(r'C:\\Users\\kirar\\OneDrive\\Desktop\\projects\\Amazon\\AmazonWebScraperDataset.csv')\n",
    "\n",
    "print(df)"
   ]
  },
  {
   "cell_type": "code",
   "execution_count": 40,
   "id": "283e7436-2dc3-432c-977d-3e42389e5e81",
   "metadata": {},
   "outputs": [],
   "source": [
    "#Now we are appending data to the csv\n",
    "\n",
    "with open('AmazonWebScraperDataset.csv', 'a+', newline='', encoding='UTF8') as f:\n",
    "    writer = csv.writer(f)\n",
    "    writer.writerow(data)"
   ]
  },
  {
   "cell_type": "code",
   "execution_count": 43,
   "id": "4be33cc9-80bb-4cf5-abbd-db8b1e3b39f0",
   "metadata": {},
   "outputs": [],
   "source": [
    "#Combine all of the above code into one function\n",
    "\n",
    "def check_price():\n",
    "    URL = 'https://www.amazon.com/Data-Analyst-Definition-Analysis-Distressed/dp/B0C1THH2KF/ref=sr_1_2?dib=eyJ2IjoiMSJ9.oMNOwLEAqdizztT1Qlud8fXqKppDMA0n8gCeQKmJojQXY_f1m9Fjyn8qzR7L7XsXXGyKsEKeq_UKGYiLochMatf5WnJgJaedY-1MA8JkfMR4TXM3YHaNW8qaUx6lEqaW83dXb2MCNjHljkYh52TWkhOMsWkP2wz3Bh1q4Nh1FeiR32fgoOutmmO4OTtkmoKRLP_6Gz6esta8BQIT_WcRnKsGhFWgP7vw8ESrXQrUGBU-pkpECH8G-mCHNwRx3_fx1D8RF6FW5Xq46zkO_pTM_nLiWtcP9B2NqEezQBLnBko.537aYguFGBBPQT-57kQ3j9x_cqHbDnD2xx4_eGI6nfQ&dib_tag=se&keywords=data%2Banalyst%2Btshirt&qid=1720084565&sr=8-2'\n",
    "\n",
    "    headers = {\"User-Agent\": \"Mozilla/5.0 (Windows NT 10.0; Win64; x64) AppleWebKit/537.36 (KHTML, like Gecko) Chrome/126.0.0.0 Safari/537.36\", \"Accept-Encoding\": \"gzip, deflate, br, zstd\", \"Accept\": \"text/html,application/xhtml+xml,application/xml;q=0.9,image/avif,image/webp,image/apng,*/*;q=0.8,application/signed-exchange;v=b3;q=0.7\", \"DNT\":\"1\",\"Connection\":\"close\", \"Upgrade-Insecure-Requests\":\"1\"}\n",
    "\n",
    "    page = requests.get(URL, headers=headers)\n",
    "\n",
    "    soup1 = BeautifulSoup(page.content, \"html.parser\")\n",
    "\n",
    "    soup2 = BeautifulSoup(soup1.prettify(), \"html.parser\")\n",
    "\n",
    "    title = soup2.find(id='productTitle').get_text()\n",
    "\n",
    "    price = soup2.find(id='corePrice_desktop').get_text()\n",
    "    \n",
    "    price = price.strip()[-5:]\n",
    "    title = title.strip()\n",
    "    \n",
    "    import datetime\n",
    "\n",
    "    today = datetime.date.today()\n",
    "    \n",
    "    import csv \n",
    "\n",
    "    header = ['Title', 'Price', 'Date']\n",
    "    data = [title, price, today]\n",
    "\n",
    "\n",
    "    with open('AmazonWebScraperDataset.csv', 'a+', newline='', encoding='UTF8') as f:\n",
    "        \n",
    "        writer = csv.writer(f)\n",
    "        \n",
    "        writer.writerow(data)\n",
    "\n"
   ]
  },
  {
   "cell_type": "code",
   "execution_count": null,
   "id": "79d22431-48ac-4a71-9df7-b1bb3638b069",
   "metadata": {},
   "outputs": [],
   "source": [
    "# Runs check_price after a set time and inputs data into your CSV\n",
    "\n",
    "while(True):\n",
    "    check_price()\n",
    "   \n",
    "    time.sleep(86400)\n",
    "    \n",
    "    "
   ]
  },
  {
   "cell_type": "code",
   "execution_count": 45,
   "id": "6fe48398-c457-4661-827a-46a24e0fcf96",
   "metadata": {},
   "outputs": [
    {
     "name": "stdout",
     "output_type": "stream",
     "text": [
      "                                               Title  Price        Date\n",
      "0  Data Analyst Definition Data Analysis Distress...  17.99  2024-07-19\n",
      "1  Data Analyst Definition Data Analysis Distress...  17.99  2024-07-19\n",
      "2  Data Analyst Definition Data Analysis Distress...  17.99  2024-07-19\n",
      "3  Data Analyst Definition Data Analysis Distress...  17.99  2024-07-19\n",
      "4  Data Analyst Definition Data Analysis Distress...  17.99  2024-07-19\n",
      "5  Data Analyst Definition Data Analysis Distress...  17.99  2024-07-19\n"
     ]
    }
   ],
   "source": [
    "import pandas as pd\n",
    "\n",
    "df = pd.read_csv(r'C:\\Users\\kirar\\OneDrive\\Desktop\\projects\\Amazon\\AmazonWebScraperDataset.csv')\n",
    "\n",
    "print(df)"
   ]
  },
  {
   "cell_type": "code",
   "execution_count": null,
   "id": "c4a41b2e-104f-4abb-adbf-9c77a8e91372",
   "metadata": {},
   "outputs": [],
   "source": [
    "# If uou want to try sending yourself an email (just for fun) when a price hits below a certain level you can try it\n",
    "# out with this script\n",
    "\n",
    "def send_mail():\n",
    "    server = smtplib.SMTP_SSL('smtp.gmail.com',465)\n",
    "    server.ehlo()\n",
    "    #server.starttls()\n",
    "    server.ehlo()\n",
    "    server.login('kirardeepak.007@gmail.com','xxxxxxxxxxxxxx')\n",
    "    \n",
    "    subject = \"The Shirt you want is below $15! Now is your chance to buy!\"\n",
    "    body = \"Deepak, This is the moment we have been waiting for. Now is your chance to pick up the shirt of your dreams. Don't mess it up! Link here: 'https://www.amazon.com/Data-Analyst-Definition-Analysis-Distressed/dp/B0C1THH2KF/ref=sr_1_2?dib=eyJ2IjoiMSJ9.oMNOwLEAqdizztT1Qlud8fXqKppDMA0n8gCeQKmJojQXY_f1m9Fjyn8qzR7L7XsXXGyKsEKeq_UKGYiLochMatf5WnJgJaedY-1MA8JkfMR4TXM3YHaNW8qaUx6lEqaW83dXb2MCNjHljkYh52TWkhOMsWkP2wz3Bh1q4Nh1FeiR32fgoOutmmO4OTtkmoKRLP_6Gz6esta8BQIT_WcRnKsGhFWgP7vw8ESrXQrUGBU-pkpECH8G-mCHNwRx3_fx1D8RF6FW5Xq46zkO_pTM_nLiWtcP9B2NqEezQBLnBko.537aYguFGBBPQT-57kQ3j9x_cqHbDnD2xx4_eGI6nfQ&dib_tag=se&keywords=data%2Banalyst%2Btshirt&qid=1720084565&sr=8-2'\n",
    "    msg = f\"Subject: {subject}\\n\\n{body}\"\n",
    "    \n",
    "    server.sendmail(\n",
    "        'kirardeepak.007@gmail.com',\n",
    "        msg\n",
    "     \n",
    "    )"
   ]
  }
 ],
 "metadata": {
  "kernelspec": {
   "display_name": "Python 3 (ipykernel)",
   "language": "python",
   "name": "python3"
  },
  "language_info": {
   "codemirror_mode": {
    "name": "ipython",
    "version": 3
   },
   "file_extension": ".py",
   "mimetype": "text/x-python",
   "name": "python",
   "nbconvert_exporter": "python",
   "pygments_lexer": "ipython3",
   "version": "3.11.7"
  }
 },
 "nbformat": 4,
 "nbformat_minor": 5
}
